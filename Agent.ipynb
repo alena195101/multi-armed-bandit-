{
 "cells": [
  {
   "cell_type": "code",
   "execution_count": 11,
   "metadata": {},
   "outputs": [],
   "source": [
    "import numpy as np\n",
    "import pandas as pd\n",
    "import matplotlib.pyplot as plt"
   ]
  },
  {
   "cell_type": "code",
   "execution_count": 48,
   "metadata": {},
   "outputs": [],
   "source": [
    "class Give_me_money:\n",
    "    def __init__(self):\n",
    "        self.matrix = pd.DataFrame({'ind':np.arange(10), 'Q':[0.5] * 10})\n",
    "        self.move = None\n",
    "        self.N = 0\n",
    "    def get_action(self):\n",
    "        self.N += 1\n",
    "        if np.random.random() < 0.1:\n",
    "            self.move = int(self.matrix.sample(n = 1).iloc[0]['ind'])\n",
    "            return self.move\n",
    "        else:\n",
    "            self.move = int(self.matrix[self.matrix['Q'] == self.matrix['Q'].max()].sample(n = 1).iloc[0]['ind'])\n",
    "            return self.move\n",
    "    def is_done(self, reward):\n",
    "        old_value = self.matrix.loc[self.move, 'Q']\n",
    "        self.matrix.loc[self.move, 'Q'] = old_value + (1/self.N)*(reward - old_value)"
   ]
  },
  {
   "cell_type": "code",
   "execution_count": 49,
   "metadata": {},
   "outputs": [],
   "source": [
    "agent = Give_me_money()"
   ]
  },
  {
   "cell_type": "code",
   "execution_count": 65,
   "metadata": {},
   "outputs": [
    {
     "data": {
      "text/plain": [
       "9"
      ]
     },
     "execution_count": 65,
     "metadata": {},
     "output_type": "execute_result"
    }
   ],
   "source": [
    "agent.get_action()"
   ]
  },
  {
   "cell_type": "code",
   "execution_count": 66,
   "metadata": {},
   "outputs": [],
   "source": [
    "agent.is_done(150)"
   ]
  },
  {
   "cell_type": "code",
   "execution_count": null,
   "metadata": {},
   "outputs": [],
   "source": []
  }
 ],
 "metadata": {
  "kernelspec": {
   "display_name": "Python 3",
   "language": "python",
   "name": "python3"
  },
  "language_info": {
   "codemirror_mode": {
    "name": "ipython",
    "version": 3
   },
   "file_extension": ".py",
   "mimetype": "text/x-python",
   "name": "python",
   "nbconvert_exporter": "python",
   "pygments_lexer": "ipython3",
   "version": "3.7.3"
  }
 },
 "nbformat": 4,
 "nbformat_minor": 2
}
